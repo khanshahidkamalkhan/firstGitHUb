{
 "cells": [
  {
   "cell_type": "markdown",
   "id": "e827178a",
   "metadata": {},
   "source": [
    "# Python ka Chilla with baba Aammar\n",
    "## To use jupyter notebook\n",
    "### Our basics of Python\n",
    "### \"01- My first program\"\n",
    "\n"
   ]
  },
  {
   "cell_type": "code",
   "execution_count": 1,
   "id": "0ef8535a",
   "metadata": {},
   "outputs": [
    {
     "name": "stdout",
     "output_type": "stream",
     "text": [
      "5\n",
      "Hello WOrld\n",
      "we are learning python with ammar\n"
     ]
    }
   ],
   "source": [
    "\n",
    "print(2+3)\n",
    "print(\"Hello WOrld\")\n",
    "print(\"we are learning python with ammar\")"
   ]
  },
  {
   "cell_type": "markdown",
   "id": "420acdd8",
   "metadata": {},
   "source": [
    "**02- Operators**"
   ]
  },
  {
   "cell_type": "code",
   "execution_count": 2,
   "id": "cf7c1843",
   "metadata": {},
   "outputs": [
    {
     "name": "stdout",
     "output_type": "stream",
     "text": [
      "5\n",
      "2\n",
      "3.0\n",
      "6\n",
      "1\n",
      "8\n",
      "3\n",
      "6.5\n"
     ]
    }
   ],
   "source": [
    "print(2+3)\n",
    "print(3-1)\n",
    "print(6/2)\n",
    "print(2*3)\n",
    "print(13%2)\n",
    "print(2**3)\n",
    "print(6//2)\n",
    "print(3**2/2*3/3+6-4)\n"
   ]
  },
  {
   "cell_type": "markdown",
   "id": "014f0ec6",
   "metadata": {},
   "source": [
    "*PEMDAS*\n",
    "\n",
    "*left to right sequence*"
   ]
  },
  {
   "cell_type": "markdown",
   "id": "3ecd7335",
   "metadata": {},
   "source": [
    "*03-Strings*"
   ]
  },
  {
   "cell_type": "code",
   "execution_count": 3,
   "id": "ef57ee35",
   "metadata": {},
   "outputs": [
    {
     "name": "stdout",
     "output_type": "stream",
     "text": [
      "Hello WOrld\n",
      "we are learning python with ammar\n",
      "test for single quotes\n",
      "test for duble quotes\n",
      "test for triple quotes\n",
      "what's up\n"
     ]
    }
   ],
   "source": [
    "print(\"Hello WOrld\")\n",
    "print(\"we are learning python with ammar\")\n",
    "print('test for single quotes')\n",
    "print(\"test for duble quotes\")\n",
    "print('''test for triple quotes''')\n",
    "print(\"what's up\")"
   ]
  },
  {
   "cell_type": "markdown",
   "id": "d37e0a64",
   "metadata": {},
   "source": [
    "*04-Comments*"
   ]
  },
  {
   "cell_type": "code",
   "execution_count": 4,
   "id": "087e0cd6",
   "metadata": {
    "scrolled": true
   },
   "outputs": [
    {
     "name": "stdout",
     "output_type": "stream",
     "text": [
      " How are you?\n",
      "We are learning python with Ammar\n",
      "5\n"
     ]
    }
   ],
   "source": [
    "print(\" How are you?\")\n",
    "print(\"We are learning python with Ammar\")\n",
    "print(2+3)"
   ]
  },
  {
   "cell_type": "markdown",
   "id": "855d93c3",
   "metadata": {},
   "source": [
    "*05-Variables*"
   ]
  },
  {
   "cell_type": "code",
   "execution_count": 5,
   "id": "cf841be2",
   "metadata": {
    "scrolled": true
   },
   "outputs": [
    {
     "name": "stdout",
     "output_type": "stream",
     "text": [
      "5\n",
      " We are learning python with Ammar\n",
      "15\n",
      "<class 'int'>\n",
      "<class 'str'>\n",
      "Mangoes, Oranges\n",
      "<class 'str'>\n"
     ]
    }
   ],
   "source": [
    "\n",
    "x=5\n",
    "print(x)\n",
    "y=\" We are learning python with Ammar\"\n",
    "print(y)\n",
    "x=x+10\n",
    "print(x)\n",
    "type(x)\n",
    "print(type(x))\n",
    "print(type(y))\n",
    "fruit_basket=\"Mangoes, Oranges\"\n",
    "print(fruit_basket)\n",
    "print(type(fruit_basket))"
   ]
  },
  {
   "cell_type": "markdown",
   "id": "24eec00f",
   "metadata": {},
   "source": [
    "*06-Input Variables*"
   ]
  },
  {
   "cell_type": "code",
   "execution_count": 6,
   "id": "c1bfd012",
   "metadata": {},
   "outputs": [
    {
     "name": "stdout",
     "output_type": "stream",
     "text": [
      "Mangoes\n",
      "which is your favourite fruit?mangoes\n",
      "mangoes\n",
      "what is your name? shahid\n",
      "Hello! shahid\n",
      "what is your name? shahid\n",
      "Hello! shahid\n",
      "what id your name? shahid\n",
      "how old are you? 30\n",
      "Hello! shahid ,you are still young\n"
     ]
    }
   ],
   "source": [
    "fruit_basket=\"Mangoes\"\n",
    "print(fruit_basket)\n",
    "fruit_basket=input(\"which is your favourite fruit?\")\n",
    "print(fruit_basket)\n",
    "name=input(\"what is your name? \")\n",
    "greetings=(\"Hello!\")\n",
    "print(greetings,name)\n",
    "name=input(\"what is your name? \")\n",
    "print(\"Hello!\",name)\n",
    "name=input(\"what id your name? \")\n",
    "age=input(\"how old are you? \")\n",
    "greetings=\"Hello!\"\n",
    "\n",
    "print(greetings, name, \",you are still young\")"
   ]
  },
  {
   "cell_type": "markdown",
   "id": "14eb0d63",
   "metadata": {},
   "source": [
    "*07-Conditional Logics*"
   ]
  },
  {
   "cell_type": "code",
   "execution_count": 7,
   "id": "8d8c49a9",
   "metadata": {
    "scrolled": true
   },
   "outputs": [
    {
     "name": "stdout",
     "output_type": "stream",
     "text": [
      "True\n",
      "False\n",
      "True\n",
      "False\n",
      "True\n",
      "False\n",
      "False\n",
      "How old is musab? 4\n",
      "<class 'int'>\n",
      "True\n"
     ]
    }
   ],
   "source": [
    "\n",
    "print(4==4)\n",
    "print(4!=4)\n",
    "print(4>3)\n",
    "print(4<3)\n",
    "print(3<=5)\n",
    "print(3>=5)\n",
    "\n",
    "musab_age=3\n",
    "age_at_school=4\n",
    "print(musab_age==age_at_school)\n",
    "\n",
    "age_at_school=4\n",
    "musab_age=input(\"How old is musab? \")\n",
    "musab_age=int(musab_age)\n",
    "print(type(musab_age))\n",
    "print(musab_age==age_at_school)\n",
    "\n"
   ]
  },
  {
   "cell_type": "markdown",
   "id": "245ba918",
   "metadata": {},
   "source": [
    "*08-Type Conversion*"
   ]
  },
  {
   "cell_type": "code",
   "execution_count": 8,
   "id": "1efdaded",
   "metadata": {},
   "outputs": [
    {
     "name": "stdout",
     "output_type": "stream",
     "text": [
      "<class 'int'>\n",
      "<class 'float'>\n",
      "<class 'str'>\n",
      "102.0 <class 'float'>\n",
      "112.2 type of x is: <class 'float'>\n",
      "what is your age?  30\n",
      "30 <class 'int'>\n",
      "what is your name?  shahid\n",
      "shahid <class 'str'>\n"
     ]
    }
   ],
   "source": [
    "x = 10\n",
    "y = 10.2\n",
    "z = \"hello\"\n",
    "print(type(x))       \n",
    "print(type(y))        \n",
    "print(type(z))       \n",
    "x = x*y\n",
    "print(x, type(x)) \n",
    "x = x+y\n",
    "print(x,\"type of x is:\", type(x))\n",
    "age=input(\"what is your age?  \")\n",
    "age=int(age)\n",
    "print(age,type(int(age)))\n",
    "name=input(\"what is your name?  \")\n",
    "print(name,type(name))\n",
    "\n"
   ]
  },
  {
   "cell_type": "markdown",
   "id": "e36556eb",
   "metadata": {},
   "source": [
    "*09-if else elif*"
   ]
  },
  {
   "cell_type": "code",
   "execution_count": 10,
   "id": "95483db5",
   "metadata": {},
   "outputs": [
    {
     "name": "stdout",
     "output_type": "stream",
     "text": [
      "Musab cannot go to school\n"
     ]
    }
   ],
   "source": [
    "required_age_at_school=5\n",
    "Musab_age=2\n",
    "\n",
    "\n",
    "if Musab_age==required_age_at_school:\n",
    "    print(\"Musab can go to school\")\n",
    "elif Musab_age>required_age_at_school:\n",
    "    print(\"Musab should join higher secondary school\")\n",
    "else:\n",
    "    print(\"Musab cannot go to school\")\n",
    "\n",
    "   "
   ]
  },
  {
   "cell_type": "markdown",
   "id": "25038249",
   "metadata": {},
   "source": [
    "*10-Functions*"
   ]
  },
  {
   "cell_type": "code",
   "execution_count": 11,
   "id": "eba49ee8",
   "metadata": {},
   "outputs": [
    {
     "name": "stdout",
     "output_type": "stream",
     "text": [
      "Learning with shahid\n",
      "Learning with shahid\n",
      "Learning with shahid\n",
      "we are learning with Aammar\n",
      "we are learning with Aammar\n",
      "we are learning with Aammar\n",
      "We are learning python\n",
      "We are learning python\n",
      "We are learning python\n",
      "Musab should join higher school\n",
      "38\n"
     ]
    }
   ],
   "source": [
    "\n",
    "def print_shahid():\n",
    "    print(\"Learning with shahid\")\n",
    "    print(\"Learning with shahid\")\n",
    "    print(\"Learning with shahid\")\n",
    "print_shahid()\n",
    "\n",
    "def print_shahid():\n",
    "    text=\"we are learning with Aammar\"\n",
    "    print(text)\n",
    "    print(text)\n",
    "    print(text)\n",
    "print_shahid()\n",
    "\n",
    "def print_shahid(text):\n",
    "    print(text)\n",
    "    print(text)\n",
    "    print(text)\n",
    "    \n",
    "print_shahid(\"We are learning python\")\n",
    "\n",
    "def school_calculator(age, text):\n",
    "    if age==5:\n",
    "      print(\"Musab can go to school)\")\n",
    "    elif age>5:\n",
    "      print(\"Musab should join higher school\")\n",
    "    else:\n",
    "      print(\"Musab is still a baby\")\n",
    "school_calculator(10, \"Musab\")\n",
    "\n",
    "def future_age(age):\n",
    "    new_age=age+20\n",
    "    return new_age\n",
    "    print(new_age)\n",
    "future_predicted_age=future_age(18)\n",
    "print(future_predicted_age)"
   ]
  },
  {
   "cell_type": "markdown",
   "id": "cb51eb0a",
   "metadata": {},
   "source": [
    "*11-Loops*"
   ]
  },
  {
   "cell_type": "code",
   "execution_count": 13,
   "id": "b4a9c18b",
   "metadata": {},
   "outputs": [
    {
     "name": "stdout",
     "output_type": "stream",
     "text": [
      "0\n",
      "1\n",
      "2\n",
      "3\n",
      "4\n",
      "5\n",
      "6\n",
      "7\n",
      "8\n",
      "9\n",
      "Mon\n",
      "Tue\n",
      "wednesday\n",
      "Thursday\n"
     ]
    }
   ],
   "source": [
    "\n",
    "x= 0\n",
    "while(x<5):\n",
    "     print(x)\n",
    "     x=x+1\n",
    "\n",
    "\n",
    "for x in range(5,10):\n",
    "    print(x)\n",
    "\n",
    "\n",
    "days = (\"Mon\", \"Tue\", \"wednesday\", \"Thursday\" , \"Fri\", \"sat\", \"sun\")\n",
    "for d in days:\n",
    "    if (d==\"Fri\"):break    \n",
    "    if (d==\"Fri\"): continue  \n",
    "    print(d)"
   ]
  },
  {
   "cell_type": "markdown",
   "id": "d5eda476",
   "metadata": {},
   "source": [
    "*12-Import Libraries*"
   ]
  },
  {
   "cell_type": "code",
   "execution_count": 15,
   "id": "1de38e87",
   "metadata": {},
   "outputs": [
    {
     "name": "stdout",
     "output_type": "stream",
     "text": [
      "the value of pi is  3.141592653589793\n",
      "225\n"
     ]
    }
   ],
   "source": [
    "\n",
    "\n",
    "import math\n",
    "print(\"the value of pi is \",math.pi)\n",
    "\n",
    "\n",
    "\n",
    "import statistics\n",
    "x=(100,200,200,400)\n",
    "print(statistics.mean(x))\n",
    "\n",
    "\n"
   ]
  },
  {
   "cell_type": "markdown",
   "id": "640c6d8b",
   "metadata": {},
   "source": [
    "*13-Trouble shootin*"
   ]
  },
  {
   "cell_type": "code",
   "execution_count": 23,
   "id": "6ec84b62",
   "metadata": {
    "scrolled": true
   },
   "outputs": [
    {
     "name": "stdout",
     "output_type": "stream",
     "text": [
      "x=syntax error\n",
      "y=run time error\n",
      "z=symantic error\n",
      "a=troubleshooting is easy\n"
     ]
    }
   ],
   "source": [
    "print(\"x=syntax error\")\n",
    "print(\"y=run time error\")\n",
    "print(\"z=symantic error\")\n",
    "\n",
    "print(\"a=troubleshooting is easy\")\n",
    "\n"
   ]
  }
 ],
 "metadata": {
  "kernelspec": {
   "display_name": "Python 3 (ipykernel)",
   "language": "python",
   "name": "python3"
  },
  "language_info": {
   "codemirror_mode": {
    "name": "ipython",
    "version": 3
   },
   "file_extension": ".py",
   "mimetype": "text/x-python",
   "name": "python",
   "nbconvert_exporter": "python",
   "pygments_lexer": "ipython3",
   "version": "3.9.7"
  }
 },
 "nbformat": 4,
 "nbformat_minor": 5
}
